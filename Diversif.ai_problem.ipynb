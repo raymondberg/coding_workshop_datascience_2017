{
 "cells": [
  {
   "cell_type": "markdown",
   "metadata": {},
   "source": [
    "Welcome to our team project for Data Science. In this exercise we will build up on the foundations created in our last two team projects where we devised an algorithm to group attendees of Python Project Night and built a web based roster app that can be use the algorithm for grouping.\n",
    "\n",
    "## What will you learn in this team project\n",
    "This will give you a gentle introduction to handling data with pandas, using a third party machine learning SaaS api to do image recognition.\n",
    "\n",
    "## Problem Definition\n",
    "\"Diversity is the engine of invention.\" Justin Trudeau, 2016\n",
    "\n",
    "Diversity in tech communities has been a widely addressed topic. As one of the most active tech community in the world, in this exercise we would try to measure some aspects of diversity in tech community. We will use image recognition on the meetup.com profile pictures of the members of ChiPy user group and determine determine how diverse our attendees are. Then we will compare the same with other tech groups in the city and around the world.\n",
    "\n",
    "## Before we go further\n",
    "The first proof of concept implementation did not take long, and it concerned me. If it is so easy build tools that can be potentially abused or misinterpreted, we need to think through the implications of the tools we build. So if you are concerned, we are on the same page. There is a question at around the middle of the project to address this.\n",
    "\n",
    "## Just the beginning\n",
    "Note the approach used in this is a crude first step and is not without flaws. Like all software, what you will build is incomplete and needs a lot of refinement (that's why this is open source!) before we can get comprehensive results. *So take the initial results of your analysis with copious amount of salt.*\n",
    "\n",
    "For this project, we are going to look at just one facet of diversity - gender diversity of the members.\n",
    "\n",
    "\n",
    "## Setting up your environment\n",
    "- You should already have Python3 installed in your computer. You can download it from [here](https://www.python.org/downloads/).\n",
    "- Instrucitons to install Jupyter Notebooks\n",
    "- Instructions to install dependencies. Executing the cell below should install all the dependecies you need."
   ]
  },
  {
   "cell_type": "code",
   "execution_count": null,
   "metadata": {},
   "outputs": [],
   "source": [
    "!pip3 install meetup-api pandas pytest matplotlib clarifai"
   ]
  },
  {
   "cell_type": "markdown",
   "metadata": {},
   "source": [
    "This part of the exercise is straight from the previous team project. We use the meetup.com api to load get the ChiPy members who RSVP-ed for one event."
   ]
  },
  {
   "cell_type": "code",
   "execution_count": null,
   "metadata": {},
   "outputs": [],
   "source": [
    "import meetup.api\n",
    "import pandas as pd\n",
    "\n",
    "\n",
    "API_KEY = ''\n",
    "event_id='237563135'\n",
    "\n",
    "\n",
    "def get_members(event_id):\n",
    "    client = meetup.api.Client(API_KEY)\n",
    "    rsvps=client.GetRsvps(event_id=event_id, urlname='_ChiPy_')\n",
    "    member_id = ','.join([str(i['member']['member_id']) for i in rsvps.results])\n",
    "    return client.GetMembers(member_id=member_id)"
   ]
  },
  {
   "cell_type": "markdown",
   "metadata": {},
   "source": [
    "Now lets load the data into pandas dataframe."
   ]
  },
  {
   "cell_type": "code",
   "execution_count": null,
   "metadata": {},
   "outputs": [],
   "source": [
    "def load_members_to_data_frame(event_id):\n",
    "    members = get_members(event_id=event_id)\n",
    "    columns=['name','id','thumb_link']\n",
    "    \n",
    "    data = [] \n",
    "    for member in members.results:\n",
    "        try:\n",
    "            data.append([member['name'], member['id'], member['photo']['thumb_link']])\n",
    "        except:\n",
    "            print('Discard incomplete profile')\n",
    "    return pd.DataFrame(data=data, columns=columns)\n",
    "\n",
    "df=load_members_to_data_frame(event_id=event_id)"
   ]
  },
  {
   "cell_type": "markdown",
   "metadata": {},
   "source": [
    "### What does the first and last 10 rows of the dataset look like?"
   ]
  },
  {
   "cell_type": "code",
   "execution_count": null,
   "metadata": {},
   "outputs": [],
   "source": [
    "df.head(10)"
   ]
  },
  {
   "cell_type": "code",
   "execution_count": null,
   "metadata": {},
   "outputs": [],
   "source": [
    "df.tail(10)"
   ]
  },
  {
   "cell_type": "markdown",
   "metadata": {},
   "source": [
    "Next we introduce Clarifai. It is a powerful image recognition as service.\n",
    "\n",
    "Signing up is very easy. \n",
    "- Goto https://developer.clarifai.com/signup/\n",
    "- Sign up for your free keys. For the initial questions, it is sufficient to have one person in your team to sign up."
   ]
  },
  {
   "cell_type": "markdown",
   "metadata": {},
   "source": [
    "#### From the Clarifai API docs:\n",
    "\n",
    "The API is built around a simple idea. You send inputs (images) to the service and it returns predictions.\n",
    "\n",
    "The type of prediction is based on what model you run the input through. For example, if you run your input through the 'food' model, the predictions it returns will contain concepts that the 'food' model knows about. If you run your input through the 'color' model, it will return predictions about the dominant colors in your image.\n",
    "\n",
    "Input Output:\n",
    "![Input output](https://developer.clarifai.com/static/images/inputs-outputs.png)\n"
   ]
  },
  {
   "cell_type": "markdown",
   "metadata": {},
   "source": [
    "[Here](https://clarifai-python.readthedocs.io/en/v2.0.24/) is rest of the docs if you need them."
   ]
  },
  {
   "cell_type": "code",
   "execution_count": null,
   "metadata": {
    "collapsed": true
   },
   "outputs": [],
   "source": [
    "client_secret = '' #your key here\n",
    "from clarifai.rest import ClarifaiApp\n",
    "def analyze_image(url):\n",
    "    app = ClarifaiApp(api_key=client_secret)\n",
    "    model = app.models.get(\"general-v1.3\")\n",
    "    return model.predict_by_url(url=url)"
   ]
  },
  {
   "cell_type": "markdown",
   "metadata": {},
   "source": [
    "## Test analyze_image with - http://bit.ly/2s3rxWD"
   ]
  },
  {
   "cell_type": "code",
   "execution_count": null,
   "metadata": {},
   "outputs": [],
   "source": [
    "analyze_image('http://bit.ly/2s3rxWD')"
   ]
  },
  {
   "cell_type": "markdown",
   "metadata": {},
   "source": [
    "## Test analyze_image with - http://bit.ly/2t4aKkO"
   ]
  },
  {
   "cell_type": "code",
   "execution_count": null,
   "metadata": {},
   "outputs": [],
   "source": [
    "analyze_image('http://bit.ly/2t4aKkO')"
   ]
  },
  {
   "cell_type": "markdown",
   "metadata": {},
   "source": [
    "## Implement a function get_concepts_from_image that prints just the tuple of concepts & values.\n",
    "\n",
    "Your output should look like:\n",
    "\n",
    "[('people', 0.9814924), ('woman', 0.9796125), ('adult', 0.9717163), ('one', 0.9707799)]"
   ]
  },
  {
   "cell_type": "code",
   "execution_count": null,
   "metadata": {},
   "outputs": [],
   "source": [
    "url = 'http://bit.ly/2t4aKkO'\n",
    "def get_concepts_from_image(url):\n",
    "    output = analyze_image(url)\n",
    "    dicts = output['outputs'][0]['data']['concepts']\n",
    "#final_list = []\n",
    "#for entry in dicts:\n",
    "#    guess = entry['name']\n",
    "#    prob = entry['value']\n",
    "#    final_list.append((guess, prob))\n",
    " \n",
    "    final_list = [(entry['name'], entry['value']) for entry in dicts]\n",
    "    return final_list\n",
    "\n",
    "get_concepts_from_image(url)\n",
    "# def get_concepts_from_image(url):\n",
    "#     output = analyze_image(url)\n",
    "#     concepts = output['data']['concepts']"
   ]
  },
  {
   "cell_type": "markdown",
   "metadata": {},
   "source": [
    "## Using a few more examples look at the different concepts returned. What are the most common concepts for a man? Most common for a woman? What do they share, or have different?"
   ]
  },
  {
   "cell_type": "code",
   "execution_count": null,
   "metadata": {},
   "outputs": [],
   "source": [
    "# tilda swinton\n",
    "# dumbledore\n",
    "images = {\n",
    "  'dumbledore':'https://media1.popsugar-assets.com/files/thumbor/Mv6JZMClLOXkEMzIne8DAYYemzE/fit-in/2048xorig/filters:strip_icc-!!-/2016/07/25/884/n/1922441/339b29ba_edit_img_image_36242499_1468792800_main/i/Best-Dumbledore-Quotes.jpg',\n",
    "  'tilda': 'http://cdn.images.express.co.uk/img/dynamic/1/590x/Tilda-Swinton-modelling-592174.jpg',\n",
    "  'baxtresser': 'http://jeannebaxtresser.com/img/ph-about.jpg',\n",
    "  'wombach': 'http://blogs.rochester.edu/SBAI/wp-content/uploads/2011/12/186483.png',\n",
    "  'michael': 'https://i0.wp.com/thenet.ng/wp-content/uploads/2016/08/Michael-Jackson.jpg?resize=1200%2C797',\n",
    "}\n",
    "\n",
    "for name, image_url in images.items():\n",
    "    print(name)\n",
    "    print(get_concepts_from_image(image_url))\n",
    "    print()\n",
    "    print()\n",
    "\n"
   ]
  },
  {
   "cell_type": "markdown",
   "metadata": {},
   "source": [
    "\n",
    "## Implement determine_gender\n",
    "\n",
    "Clarifai will return a number of concepts with different values indicating how confident it is with the prediction. If it can identify if it is a picture of a *man* or a *woman* the returned concepts would include *man* and *woman*. It might include *boy* or *girl* as well."
   ]
  },
  {
   "cell_type": "code",
   "execution_count": null,
   "metadata": {},
   "outputs": [],
   "source": [
    "def determine_gender(url):\n",
    "    try:\n",
    "        guesses = get_concepts_from_image(url)\n",
    "        for guess in guesses:\n",
    "            if guess[0] in ['man', 'boy']:\n",
    "                return 'M'\n",
    "            elif guess[0] in ['woman', 'girl']:\n",
    "                return 'F'\n",
    "    except:\n",
    "        pass\n",
    "    return 'U'\n",
    "assert determine_gender(images['dumbledore']) == 'M' \n",
    "assert determine_gender(images['tilda']) == 'F' \n",
    "assert determine_gender(images['wombach']) == 'F' \n",
    "assert determine_gender(images['michael']) == 'M' \n",
    "assert determine_gender(images['baxtresser']) == 'F' \n",
    "print(\"it all worked\")"
   ]
  },
  {
   "cell_type": "markdown",
   "metadata": {},
   "source": [
    "## Test determine_gender function"
   ]
  },
  {
   "cell_type": "markdown",
   "metadata": {},
   "source": [
    "Test out your implementation of determine_gender with the profile pictures of your team members. Refine your algorithm to make changes based on your results. Some people like to have cats or pandas as their profile pictures. Think of a strategy for handling situations like that."
   ]
  },
  {
   "cell_type": "markdown",
   "metadata": {},
   "source": [
    "Before we bring the pieces togther, we need to do a little bit of refining so that we can evaluate our results visually. \n",
    "\n",
    "We will use IPython's HTML display features by converting thumblink urls to be inserted inside html img tags. *Note* the function calls above mutate the dataframe itself, so if you execute the cell more than once it will malformat the img tag and the images would not be rendered correctly."
   ]
  },
  {
   "cell_type": "code",
   "execution_count": null,
   "metadata": {},
   "outputs": [],
   "source": [
    "from IPython.display import Image, display, HTML\n",
    "pd.set_option('display.max_colwidth', -1)\n",
    "\n",
    "df['pic']=df.thumb_link.map(lambda x:'<img src=\"{0}\" height=80 width=80 />'.format(x))\n",
    "HTML(df[['name','pic']].to_html(escape=False))"
   ]
  },
  {
   "cell_type": "markdown",
   "metadata": {},
   "source": [
    "Now that we have a visual way of evaulating the results, lets apply your determine_gender function to the list of attendees."
   ]
  },
  {
   "cell_type": "markdown",
   "metadata": {},
   "source": [
    "## Apply determine_gender to your data frame and display image and gender next to each other"
   ]
  },
  {
   "cell_type": "code",
   "execution_count": null,
   "metadata": {},
   "outputs": [],
   "source": [
    "df.shape"
   ]
  },
  {
   "cell_type": "code",
   "execution_count": null,
   "metadata": {},
   "outputs": [],
   "source": [
    "counter = 0\n",
    "def wrapper(*args, **kwargs):\n",
    "    global counter\n",
    "    counter +=1\n",
    "    if counter % 10 == 0:\n",
    "        print(\"Got to {}\".format(counter))\n",
    "    return determine_gender(*args, **kwargs)\n",
    "\n",
    "#df = df.iloc[:1,:].copy()\n",
    "df['gender'] = df['thumb_link'].apply(wrapper)\n",
    "\n",
    "df"
   ]
  },
  {
   "cell_type": "markdown",
   "metadata": {},
   "source": [
    "Lets take a look at the results."
   ]
  },
  {
   "cell_type": "markdown",
   "metadata": {},
   "source": [
    "## Compare your determine_gender function result with randomly generated results\n",
    "How good are your results? Is it any better than flipping a coin? Go back and tune determine_gender if nedded."
   ]
  },
  {
   "cell_type": "code",
   "execution_count": null,
   "metadata": {},
   "outputs": [],
   "source": [
    "HTML(df[['name', 'gender', 'pic']].to_html(escape=False))"
   ]
  },
  {
   "cell_type": "markdown",
   "metadata": {},
   "source": [
    "## Get the counts\n",
    "What are the counts of male vs female attendees today?"
   ]
  },
  {
   "cell_type": "code",
   "execution_count": null,
   "metadata": {},
   "outputs": [],
   "source": [
    "x = df['gender'].value_counts()"
   ]
  },
  {
   "cell_type": "code",
   "execution_count": null,
   "metadata": {},
   "outputs": [],
   "source": [
    "x['M']"
   ]
  },
  {
   "cell_type": "markdown",
   "metadata": {},
   "source": [
    "## Putting it together\n",
    "Now implement a function that takes a meetup.com event id and gives back the male female counts of the RSVP."
   ]
  },
  {
   "cell_type": "code",
   "execution_count": null,
   "metadata": {},
   "outputs": [],
   "source": [
    "def get_counts(event_id):\n",
    "    global counter\n",
    "    counter=0\n",
    "    df=load_members_to_data_frame(event_id=event_id)\n",
    "    df['gender'] = df['thumb_link'].apply(wrapper)\n",
    "    x = df['gender'].value_counts()\n",
    "    male = x['M']\n",
    "    female = x['F']\n",
    "    unknown = x['U']\n",
    "    return (male, female, unknown)\n",
    "\n",
    "get_counts('240015768')"
   ]
  },
  {
   "cell_type": "markdown",
   "metadata": {},
   "source": [
    "## Pause and reflect\n",
    "\n",
    "Disucss within your team and come up with following\n",
    "\n",
    "- three nefarious usages that your program can have\n",
    "- three beneficial usages that your program can have\n"
   ]
  },
  {
   "cell_type": "code",
   "execution_count": null,
   "metadata": {
    "collapsed": true
   },
   "outputs": [],
   "source": []
  },
  {
   "cell_type": "markdown",
   "metadata": {},
   "source": [
    "### Plot the male female counts of the last 10 ChiPy events\n",
    "This will probably get you to hit api limits. To get around that use API keys of your team members. Share it on slack."
   ]
  },
  {
   "cell_type": "code",
   "execution_count": null,
   "metadata": {
    "collapsed": true
   },
   "outputs": [],
   "source": []
  },
  {
   "cell_type": "markdown",
   "metadata": {},
   "source": [
    "## Generate the same plots for other  meetup.com communities in Chicago.\n",
    "Here are some. Feel free to include others you are aware of\n",
    "\n",
    "- [Javascript](https://www.meetup.com/js-chi/)\n",
    "- [Java](https://www.meetup.com/ChicagoJUG/)\n",
    "- [Ruby](https://www.meetup.com/ChicagoRuby/)\n",
    "- [Big Data](https://www.meetup.com/Chicago-Big-Data/)\n",
    "- [PyLadies](https://www.meetup.com/Chicago-PyLadies/)\n",
    "- [Woman who code](https://www.meetup.com/Women-Who-Code-Chicago/)\n",
    "\n",
    "Feel free to collaborate with other teams on #team-projects slack channel so that we may cover all the different user groups. Share the meetup.com urls that you have found."
   ]
  },
  {
   "cell_type": "markdown",
   "metadata": {},
   "source": [
    "## Generate the average ratio from those last 10 meetings for ChiPy"
   ]
  },
  {
   "cell_type": "code",
   "execution_count": null,
   "metadata": {
    "collapsed": true
   },
   "outputs": [],
   "source": []
  },
  {
   "cell_type": "markdown",
   "metadata": {},
   "source": [
    "## Generate the average ratios for the user groups you used above"
   ]
  },
  {
   "cell_type": "code",
   "execution_count": null,
   "metadata": {
    "collapsed": true
   },
   "outputs": [],
   "source": []
  },
  {
   "cell_type": "markdown",
   "metadata": {},
   "source": [
    "### Compare Chicago with the tech communities of the different cities in the USA\n",
    "- Silicon Valley\n",
    "- New York\n",
    "- St. Louis\n",
    "- Salt Lake City (and Utah)\n",
    "- Teaxs, Austin"
   ]
  },
  {
   "cell_type": "markdown",
   "metadata": {},
   "source": [
    "### Compare the different countries with USA\n",
    "- Canada\n",
    "- Mexico\n",
    "- India\n",
    "- United Kindgom\n",
    "- Australia\n",
    "- China\n",
    "- Japan"
   ]
  }
 ],
 "metadata": {
  "kernelspec": {
   "display_name": "Python 3",
   "language": "python",
   "name": "python3"
  },
  "language_info": {
   "codemirror_mode": {
    "name": "ipython",
    "version": 3
   },
   "file_extension": ".py",
   "mimetype": "text/x-python",
   "name": "python",
   "nbconvert_exporter": "python",
   "pygments_lexer": "ipython3",
   "version": "3.5.3"
  }
 },
 "nbformat": 4,
 "nbformat_minor": 1
}
